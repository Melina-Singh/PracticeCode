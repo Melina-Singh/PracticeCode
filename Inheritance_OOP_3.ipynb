{     
  "nbformat": 4,
  "nbformat_minor": 0,
  "metadata": {
    "colab": {
      "provenance": [],
      "authorship_tag": "ABX9TyMM9/a1gikBH3nKZsfBn4ar",
      "include_colab_link": true
    },
    "kernelspec": {
      "name": "python3",
      "display_name": "Python 3"
    },
    "language_info": {
      "name": "python"
    }
  },
  "cells": [
    {
      "cell_type": "markdown",
      "metadata": {
        "id": "view-in-github",
        "colab_type": "text"
      },
      "source": [
        "<a href=\"https://colab.research.google.com/github/Melina-Singh/PracticeCode/blob/master/Inheritance_OOP_3.ipynb\" target=\"_parent\"><img src=\"https://colab.research.google.com/assets/colab-badge.svg\" alt=\"Open In Colab\"/></a>"
      ]
    },
    {
      "cell_type": "markdown",
      "source": [
        "#Types of Inheritance"
      ],
      "metadata": {
        "id": "_wRrTxyAK_fo"
      }
    },
    {
      "cell_type": "code",
      "source": [
        "# Single Inheritance\n",
        "class Single:\n",
        "  def __init__(self, main, tu):\n",
        "    self.main = main\n",
        "    self.tu = tu\n",
        "\n",
        "\n",
        "  def trip(self):\n",
        "    print(\"I am going India\")\n",
        "\n",
        "class Child(Single):\n",
        "  pass\n",
        "\n",
        "\n",
        "chld = Child(\"Ta\", \"ma\").trip()"
      ],
      "metadata": {
        "colab": {
          "base_uri": "https://localhost:8080/"
        },
        "id": "yceZL2DeLF6M",
        "outputId": "5a495a3e-0761-45dc-8f6f-bfec23654801"
      },
      "execution_count": null,
      "outputs": [
        {
          "output_type": "stream",
          "name": "stdout",
          "text": [
            "I am going India\n"
          ]
        }
      ]
    },
    {
      "cell_type": "code",
      "source": [
        "# multilevel\n",
        "# this is baje\n",
        "class Product:\n",
        "    def review(self):\n",
        "        print (\"Product customer review\")\n",
        "\n",
        "# this is baje ko chhora\n",
        "class Phone(Product):\n",
        "    def __init__(self, price, brand, camera):\n",
        "        print (\"Inside phone constructor\")\n",
        "        self.__price = price\n",
        "        self.brand = brand\n",
        "        self.camera = camera\n",
        "\n",
        "    def buy(self):\n",
        "        print (\"Buying a phone\")\n",
        "\n",
        "# and this is nati of baje\n",
        "class SmartPhone(Phone):\n",
        "    pass\n",
        "\n",
        "s=SmartPhone(20000, \"Apple\", 12)\n",
        "\n",
        "s.buy()\n",
        "s.review()"
      ],
      "metadata": {
        "colab": {
          "base_uri": "https://localhost:8080/"
        },
        "id": "jENAj-DtLxLm",
        "outputId": "fe2a3c71-f4e4-4eab-a004-fa103fc6958d"
      },
      "execution_count": null,
      "outputs": [
        {
          "output_type": "stream",
          "name": "stdout",
          "text": [
            "Inside phone constructor\n",
            "Buying a phone\n",
            "Product customer review\n"
          ]
        }
      ]
    },
    {
      "cell_type": "code",
      "source": [
        "# Hierarchical\n",
        "# this is bau\n",
        "class Phone:\n",
        "    def __init__(self, price, brand, camera):\n",
        "        print (\"Inside phone constructor\")\n",
        "        self.__price = price\n",
        "        self.brand = brand\n",
        "        self.camera = camera\n",
        "\n",
        "    def buy(self):\n",
        "        print (\"Buying a phone\")\n",
        "\n",
        "# these two classes are childrens\n",
        "class SmartPhone(Phone):\n",
        "    pass\n",
        "\n",
        "class FeaturePhone(Phone):\n",
        "    pass\n",
        "\n",
        "SmartPhone(1000,\"Apple\",\"13px\").buy()\n",
        "FeaturePhone(10,\"Lava\",\"1px\").buy()"
      ],
      "metadata": {
        "colab": {
          "base_uri": "https://localhost:8080/"
        },
        "id": "xI2Q6CApMLSx",
        "outputId": "3290c607-e952-4546-85a4-d27ac31e9b4a"
      },
      "execution_count": null,
      "outputs": [
        {
          "output_type": "stream",
          "name": "stdout",
          "text": [
            "Inside phone constructor\n",
            "Buying a phone\n",
            "Inside phone constructor\n",
            "Buying a phone\n"
          ]
        }
      ]
    },
    {
      "cell_type": "code",
      "source": [
        "# Multiple\n",
        "class Phone:\n",
        "    def __init__(self, price, brand, camera):\n",
        "        print (\"Inside phone constructor\")\n",
        "        self.__price = price\n",
        "        self.brand = brand\n",
        "        self.camera = camera\n",
        "\n",
        "    def buy(self):\n",
        "        print (\"Buying a phone\")\n",
        "\n",
        "class Product:\n",
        "    def review(self):\n",
        "        print (\"Customer review\")\n",
        "\n",
        "class SmartPhone(Phone, Product):\n",
        "    pass\n",
        "\n",
        "s=SmartPhone(20000, \"Apple\", 12)\n",
        "\n",
        "s.buy()\n",
        "s.review()\n"
      ],
      "metadata": {
        "colab": {
          "base_uri": "https://localhost:8080/"
        },
        "id": "CndcGzCsMYYW",
        "outputId": "a7d364f0-0303-42f3-f438-4c8e5e9da63e"
      },
      "execution_count": null,
      "outputs": [
        {
          "output_type": "stream",
          "name": "stdout",
          "text": [
            "Inside phone constructor\n",
            "Buying a phone\n",
            "Customer review\n"
          ]
        }
      ]
    },
    {
      "cell_type": "code",
      "source": [
        "# the diamond problem\n",
        "# https://stackoverflow.com/questions/56361048/what-is-the-diamond-problem-in-python-and-why-its-not-appear-in-python2\n",
        "class Phone:\n",
        "    def __init__(self, price, brand, camera):\n",
        "        print (\"Inside phone constructor\")\n",
        "        self.__price = price\n",
        "        self.brand = brand\n",
        "        self.camera = camera\n",
        "\n",
        "    def buy(self):\n",
        "        print (\"Buying a phone\")\n",
        "\n",
        "class Product:\n",
        "    def buy(self):\n",
        "        print (\"Product buy method\")\n",
        "\n",
        "# Method resolution order\n",
        "class SmartPhone(Phone,Product): #first ma kasko kura manne(ko print hune) vanne kura order le dekhauchha\n",
        "    pass    #first ma Phone xa so it will execute first\n",
        "\n",
        "s=SmartPhone(20000, \"Apple\", 12)\n",
        "\n",
        "s.buy()"
      ],
      "metadata": {
        "colab": {
          "base_uri": "https://localhost:8080/"
        },
        "id": "i6pWHuHgMvhr",
        "outputId": "856d1f84-b156-4966-b29b-8911055994ba"
      },
      "execution_count": null,
      "outputs": [
        {
          "output_type": "stream",
          "name": "stdout",
          "text": [
            "Inside phone constructor\n",
            "Buying a phone\n"
          ]
        }
      ]
    },
    {
      "cell_type": "code",
      "source": [
        "class SmartPhone(Product,Phone):\n",
        "      pass\n",
        "\n",
        "s=SmartPhone(20000, \"Apple\", 12)\n",
        "\n",
        "s.buy()"
      ],
      "metadata": {
        "colab": {
          "base_uri": "https://localhost:8080/"
        },
        "id": "L3uJCSuqNR86",
        "outputId": "f61e376d-14d7-46a5-965f-804907a63d94"
      },
      "execution_count": null,
      "outputs": [
        {
          "output_type": "stream",
          "name": "stdout",
          "text": [
            "Inside phone constructor\n",
            "Product buy method\n"
          ]
        }
      ]
    },
    {
      "cell_type": "markdown",
      "source": [
        "#Polymorphism\n",
        "\n",
        "1. Method Overriding\n",
        "2. Method Overloading  \n",
        "3. Operator Overloading\n"
      ],
      "metadata": {
        "id": "q2Qx-jgKS4kS"
      }
    },
    {
      "cell_type": "code",
      "source": [
        "# Method Overloading\n",
        "\n",
        "class shape:\n",
        "  def area(self, radius):\n",
        "    return 3.14*radius*radius\n",
        "\n",
        "  def area(self, length, breadth):\n",
        "    return length*breadth\n",
        "\n",
        "s= shape()\n",
        "\n",
        "# s.area(2)\n",
        "s.area(4, 5)\n"
      ],
      "metadata": {
        "colab": {
          "base_uri": "https://localhost:8080/"
        },
        "id": "mu1H80xmNqew",
        "outputId": "8922f7c5-ef9e-4c57-9456-baaaaf5d8893"
      },
      "execution_count": null,
      "outputs": [
        {
          "output_type": "execute_result",
          "data": {
            "text/plain": [
              "20"
            ]
          },
          "metadata": {},
          "execution_count": 10
        }
      ]
    },
    {
      "cell_type": "code",
      "source": [
        "class Shape:\n",
        "\n",
        "  def area(self,a,b=0):\n",
        "    if b == 0:\n",
        "      return 3.14*a*a\n",
        "    else:\n",
        "      return a*b          #yasari hunxa method overloading in python otherwise hudaina\n",
        "\n",
        "s = Shape()\n",
        "\n",
        "print(s.area(2))\n",
        "print(s.area(3,4))"
      ],
      "metadata": {
        "colab": {
          "base_uri": "https://localhost:8080/"
        },
        "id": "mvFTksuVUoNG",
        "outputId": "96810d57-f30e-4269-cead-83df3157bf49"
      },
      "execution_count": null,
      "outputs": [
        {
          "output_type": "stream",
          "name": "stdout",
          "text": [
            "12.56\n",
            "12\n"
          ]
        }
      ]
    },
    {
      "cell_type": "code",
      "source": [
        "# Operator Overloading\n",
        "'hello' +'world'  #string use garda concatinate vayo"
      ],
      "metadata": {
        "colab": {
          "base_uri": "https://localhost:8080/",
          "height": 36
        },
        "id": "PoKLC6AUVGiy",
        "outputId": "cc50b2d5-e74d-4241-be16-6e5358546f05"
      },
      "execution_count": null,
      "outputs": [
        {
          "output_type": "execute_result",
          "data": {
            "text/plain": [
              "'helloworld'"
            ],
            "application/vnd.google.colaboratory.intrinsic+json": {
              "type": "string"
            }
          },
          "metadata": {},
          "execution_count": 12
        }
      ]
    },
    {
      "cell_type": "code",
      "source": [
        "4 + 5  #intege diyo vane addition hunxa"
      ],
      "metadata": {
        "colab": {
          "base_uri": "https://localhost:8080/"
        },
        "id": "EVKphOYVVhTu",
        "outputId": "a897e86f-b42f-4103-ee1f-bb62e902bf3a"
      },
      "execution_count": null,
      "outputs": [
        {
          "output_type": "execute_result",
          "data": {
            "text/plain": [
              "9"
            ]
          },
          "metadata": {},
          "execution_count": 13
        }
      ]
    },
    {
      "cell_type": "code",
      "source": [
        "[2,3,4] + [4,3, 5]   #list ma merge hunxa"
      ],
      "metadata": {
        "colab": {
          "base_uri": "https://localhost:8080/"
        },
        "id": "siFRC2eAVkzT",
        "outputId": "0e0c996e-8958-4bb5-af19-672af97a8185"
      },
      "execution_count": null,
      "outputs": [
        {
          "output_type": "execute_result",
          "data": {
            "text/plain": [
              "[2, 3, 4, 4, 3, 5]"
            ]
          },
          "metadata": {},
          "execution_count": 15
        }
      ]
    },
    {
      "cell_type": "code",
      "source": [],
      "metadata": {
        "id": "2CBE4mKuV0Vl"
      },
      "execution_count": null,
      "outputs": []
    }
  ]
}
