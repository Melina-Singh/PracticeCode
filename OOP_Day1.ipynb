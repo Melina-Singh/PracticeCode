{
  "nbformat": 4,
  "nbformat_minor": 0,
  "metadata": {
    "colab": {
      "provenance": [],
      "authorship_tag": "ABX9TyND3Kc9mSvXwgNN+X+mgtRq",
      "include_colab_link": true
    },
    "kernelspec": {
      "name": "python3",
      "display_name": "Python 3"
    },
    "language_info": {
      "name": "python"
    }
  },
  "cells": [
    {
      "cell_type": "markdown",
      "metadata": {
        "id": "view-in-github",
        "colab_type": "text"
      },
      "source": [
        "<a href=\"https://colab.research.google.com/github/Melina-Singh/PracticeCode/blob/master/OOP_Day1.ipynb\" target=\"_parent\"><img src=\"https://colab.research.google.com/assets/colab-badge.svg\" alt=\"Open In Colab\"/></a>"
      ]
    },
    {
      "cell_type": "code",
      "execution_count": null,
      "metadata": {
        "id": "vbQcjkEhblph"
      },
      "outputs": [],
      "source": [
        "# pascal case\n",
        "\n",
        "HeloWorld"
      ]
    },
    {
      "cell_type": "code",
      "source": [
        "class Atm:\n",
        "    # constructor\n",
        "    def __init__(self):\n",
        "        self.pin = ''\n",
        "        self.balance = 0\n",
        "        self.menu()\n",
        "\n",
        "    def menu(self):\n",
        "        user_input = input(\"\"\"\n",
        "        Hi How can I help you?\n",
        "        1. Press 1 to create pin\n",
        "        2. Press 2 to change pin\n",
        "        3. Press 3 to check balance\n",
        "        4. Press 4 to withdraw\n",
        "        5. Anything else to exit\n",
        "        \"\"\")\n",
        "\n",
        "        if user_input == '1':\n",
        "            # create pin\n",
        "            self.create_pin()\n",
        "        elif user_input == '2':\n",
        "            # change pin\n",
        "            self.change_pin()\n",
        "        elif user_input == '3':\n",
        "            # check balance\n",
        "            self.check_balance()\n",
        "        elif user_input == '4':\n",
        "            # withdraw\n",
        "            self.withdraw()\n",
        "        else:\n",
        "            exit()\n",
        "\n",
        "    def create_pin(self):\n",
        "        user_pin = input(\"Enter your pin: \")\n",
        "        self.pin = user_pin\n",
        "\n",
        "        user_balance = int(input(\"Enter balance: \"))\n",
        "        self.balance = user_balance\n",
        "\n",
        "        print(\"Pin created successfully.\")\n",
        "        self.menu()\n",
        "\n",
        "    def change_pin(self):\n",
        "      old_pin = input(\"enter Old Pin\")\n",
        "\n",
        "      if old_pin == self.pin:\n",
        "        # let him change the pin\n",
        "        new_pin = input(\"enter new pin\")\n",
        "        self.pin = new_pin\n",
        "        print(\"new pin changed successfully.\")\n",
        "        self.menu()\n",
        "\n",
        "      else:\n",
        "        print(\"Change garna dina mildaina sorry\")\n",
        "        self.menu()\n",
        "\n",
        "    def check_balance(self):\n",
        "      user_pin = input(\"enter your pin\")\n",
        "      if user_pin == self.pin:\n",
        "        print(\"Your balance is \", self.balance)\n",
        "        self.menu()\n",
        "      else:\n",
        "        print(\"chal hat bhootnike\")\n",
        "        self.menu()\n",
        "\n",
        "    def withdraw(self):\n",
        "      user_pin =input(\"enter your pin\")\n",
        "      if user_pin == self.pin:\n",
        "        # allow to withdraw\n",
        "        amount = int(input(\"Enter the amount : \"))\n",
        "        if amount <= self.balance:\n",
        "          self.balance = self.balance - amount\n",
        "          print(\"Withdraw Successful\")\n",
        "        else:\n",
        "          print(\"Salee Gareeb, xaina tyatro paisa tasanga \")\n",
        "      else:\n",
        "        print(\"Sale Chor\")\n",
        "        self.menu()\n",
        "\n",
        "\n",
        "\n",
        "\n",
        "\n"
      ],
      "metadata": {
        "id": "I7OQBkexb8mj"
      },
      "execution_count": 13,
      "outputs": []
    },
    {
      "cell_type": "code",
      "source": [
        "obj = Atm()\n"
      ],
      "metadata": {
        "colab": {
          "base_uri": "https://localhost:8080/"
        },
        "id": "BZka5uSidf49",
        "outputId": "25472d31-4ffd-4e8c-9153-bfe40fcf3ae1"
      },
      "execution_count": 14,
      "outputs": [
        {
          "output_type": "stream",
          "name": "stdout",
          "text": [
            "\n",
            "        Hi How can I help you?\n",
            "        1. Press 1 to create pin\n",
            "        2. Press 2 to change pin\n",
            "        3. Press 3 to check balance\n",
            "        4. Press 4 to withdraw\n",
            "        5. Anything else to exit\n",
            "        1\n",
            "Enter your pin: 1234\n",
            "Enter balance: 10000\n",
            "Pin created successfully.\n",
            "\n",
            "        Hi How can I help you?\n",
            "        1. Press 1 to create pin\n",
            "        2. Press 2 to change pin\n",
            "        3. Press 3 to check balance\n",
            "        4. Press 4 to withdraw\n",
            "        5. Anything else to exit\n",
            "        4\n",
            "enter your pin1234\n",
            "Enter the amount : 2000\n",
            "Withdraw Successful\n"
          ]
        }
      ]
    },
    {
      "cell_type": "code",
      "source": [
        "id(obj)"
      ],
      "metadata": {
        "colab": {
          "base_uri": "https://localhost:8080/"
        },
        "id": "vxWiCU0djew8",
        "outputId": "ff790f61-b313-4dd7-a13f-86411245460a"
      },
      "execution_count": 15,
      "outputs": [
        {
          "output_type": "execute_result",
          "data": {
            "text/plain": [
              "133644827163184"
            ]
          },
          "metadata": {},
          "execution_count": 15
        }
      ]
    },
    {
      "cell_type": "code",
      "source": [
        "# creating our own datatype\n",
"#MAGIC METHODS",
        "\n",
        "class Fraction:\n",
        "\n",
        "# parameterized constructor\n",
        "# constructor which will need input\n",
        "  def __init__(self,x, y):\n",
        "    self.num = x\n",
        "    self.den = y\n",
        "\n",
        "  def __str__(self):\n",
        "    return '{}/{}'.format(self.num,self.den)\n",
        "\n",
        "  def __add__(self,other):\n",
        "    new_num = self.num*other.den + other.num*self.den\n",
        "    new_den = self.den*other.den\n",
        "\n",
        "    return\"{}/{}\".format(new_num, new_den)\n",
        "\n",
        "  def __sub__(self, other):\n",
        "    sub_num = self.num * other.den - other.num*self.den\n",
        "    sub_den = self.den*other.den\n",
        "\n",
        "    return\"{}/{}\".format(sub_num, sub_den )\n",
        "\n",
        "  def __mul__(self, other):\n",
        "    mul_num = self.num * other.num\n",
        "    mul_den = self.den * other.den\n",
        "\n",
        "    return\"{}/{}\".format(mul_num, mul_den)\n",
        "\n",
        "  def __truediv__(self,other):\n",
        "    div_num = self.num*other.den\n",
        "    div_den = self.den * other.num\n",
        "\n",
        "    return \"{}/{}\".format(div_num, div_den)"
      ],
      "metadata": {
        "id": "8ZirUwIodlUp"
      },
      "execution_count": 52,
      "outputs": []
    },
    {
      "cell_type": "code",
      "source": [],
      "metadata": {
        "id": "sinc0Jmb50Ur"
      },
      "execution_count": 32,
      "outputs": []
    },
    {
      "cell_type": "code",
      "source": [
        "frc1 = Fraction(3,5)\n",
        "fr2 = Fraction(1,3)\n",
        "print(frc1)\n",
        "print(fr2)\n"
      ],
      "metadata": {
        "colab": {
          "base_uri": "https://localhost:8080/"
        },
        "id": "tnITuDrS5hu6",
        "outputId": "6c2207ee-69e3-4ae7-c97e-cc42b6dde205"
      },
      "execution_count": 56,
      "outputs": [
        {
          "output_type": "stream",
          "name": "stdout",
          "text": [
            "3/5\n",
            "1/3\n"
          ]
        }
      ]
    },
    {
      "cell_type": "code",
      "source": [
        "print(frc1 +fr2)\n",
        "print(frc1 - fr2)\n",
        "print(frc1 * fr2)\n",
        "print(frc1 / fr2)"
      ],
      "metadata": {
        "colab": {
          "base_uri": "https://localhost:8080/"
        },
        "id": "E2mwx1yT6sj2",
        "outputId": "0bb42c56-cb05-4da4-d1c2-f5591b295f4e"
      },
      "execution_count": 55,
      "outputs": [
        {
          "output_type": "stream",
          "name": "stdout",
          "text": [
            "14/15\n",
            "4/15\n",
            "3/15\n",
            "9/5\n"
          ]
        }
      ]
    }
  ]
}
