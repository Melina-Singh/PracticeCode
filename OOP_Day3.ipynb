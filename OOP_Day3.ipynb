{
  "nbformat": 4,
  "nbformat_minor": 0,
  "metadata": {
    "colab": {
      "provenance": [],
      "authorship_tag": "ABX9TyNtTxgKWjl6ROm49kN8+Wo1",
      "include_colab_link": true
    },
    "kernelspec": {
      "name": "python3",
      "display_name": "Python 3"
    },
    "language_info": {
      "name": "python"
    }
  },
  "cells": [
    {
      "cell_type": "markdown",
      "metadata": {
        "id": "view-in-github",
        "colab_type": "text"
      },
      "source": [
        "<a href=\"https://colab.research.google.com/github/Melina-Singh/PracticeCode/blob/master/OOP_Day3.ipynb\" target=\"_parent\"><img src=\"https://colab.research.google.com/assets/colab-badge.svg\" alt=\"Open In Colab\"/></a>"
      ]
    },
    {
      "cell_type": "code",
      "source": [
        "class Person:\n",
        "\n",
        "  def __init__(self, name, gender, address):\n",
        "    self.name = name\n",
        "    self.gender = gender\n",
        "    self.address = address\n",
        "\n",
        "  def print_address(self):\n",
        "    print(self.address.city, self.address.pin,self.address.state )\n",
        "\n",
        "\n",
        "class Address:\n",
        "  def __init__(self, city, pin, state):\n",
        "    self.city = city\n",
        "    self.pin = pin\n",
        "    self.state = state\n",
        "\n",
        "add = Address(\"Ktm\",4410,\"BAGMATI\")\n",
        "per = Person(\"RAM\",\"Male\", add)\n",
        "\n",
        "per.print_address()"
      ],
      "metadata": {
        "colab": {
          "base_uri": "https://localhost:8080/"
        },
        "id": "UN9LBMksj4UL",
        "outputId": "e0340f71-c5e8-42f9-a9a5-7162dd9992e3"
      },
      "execution_count": 4,
      "outputs": [
        {
          "output_type": "stream",
          "name": "stdout",
          "text": [
            "Ktm 4410 BAGMATI\n"
          ]
        }
      ]
    },
    {
      "cell_type": "code",
      "execution_count": 8,
      "metadata": {
        "colab": {
          "base_uri": "https://localhost:8080/"
        },
        "id": "rT8NB5j3jsxH",
        "outputId": "144e3007-654d-41c7-bcb9-1d288a4f82a4"
      },
      "outputs": [
        {
          "output_type": "stream",
          "name": "stdout",
          "text": [
            "Ktm 4410 BAGMATI\n",
            "mumbai 111111 maharastra\n"
          ]
        }
      ],
      "source": [
        "class Person:\n",
        "\n",
        "  def __init__(self, name, gender, address):\n",
        "    self.name = name\n",
        "    self.gender = gender\n",
        "    self.address = address\n",
        "\n",
        "  def print_address(self):\n",
        "    print(self.address.get_city(), self.address.pin,self.address.state )\n",
        "\n",
        "  def edit_profile(self,new_name,new_city,new_pin,new_state):\n",
        "    self.name = new_name\n",
        "    self.address.edit_address(new_city,new_pin,new_state)\n",
        "\n",
        "\n",
        "  # (We cannot access private attributs while performing aggregate\n",
        "  #  so here we can use GETTER METHOD)\n",
        "\n",
        "class Address:\n",
        "  def __init__(self, city, pin, state):\n",
        "    self.__city = city\n",
        "    self.pin = pin\n",
        "    self.state = state\n",
        "\n",
        "  def get_city(self): # GETTER METHOD\n",
        "    return self.__city\n",
        "\n",
        "  def edit_address(self,new_city,new_pin,new_state):\n",
        "    self.__city = new_city\n",
        "    self.pin = new_pin\n",
        "    self.state = new_state\n",
        "\n",
        "\n",
        "add = Address(\"Ktm\",4410,\"BAGMATI\")\n",
        "per = Person(\"RAM\",\"Male\", add)\n",
        "\n",
        "per.print_address()\n",
        "\n",
        "per.edit_profile('rahul','mumbai',111111,'maharastra')\n",
        "per.print_address()"
      ]
    },
    {
      "cell_type": "code",
      "source": [
        "# PARENT CLASS\n",
        "class User:\n",
        "\n",
        "  def __init__(self):\n",
        "    self.name = \"ram\"\n",
        "\n",
        "  def login(self):\n",
        "    print(\"log in\")\n",
        "\n",
        "# CHILD CLASS\n",
        "class Student(User):\n",
        "\n",
        "  # def __init__(self):      here we have the constructor of child class\n",
        "                          #  we can only use the parents constructor if there is no constructor in child\n",
        "                          # class\n",
        "  #   self.rollno = 12\n",
        "\n",
        "  def enroll(self):\n",
        "    print(\"Enroll into the course\")\n",
        "\n",
        "\n",
        "u = User()\n",
        "s = Student()\n",
        "\n",
        "print(s.name)\n",
        "s.login()\n",
        "s.enroll()\n",
        "\n"
      ],
      "metadata": {
        "colab": {
          "base_uri": "https://localhost:8080/"
        },
        "id": "2jT7vQJElMmt",
        "outputId": "37c86853-8e4d-4fdb-ecd9-81dd2603e8ee"
      },
      "execution_count": 11,
      "outputs": [
        {
          "output_type": "stream",
          "name": "stdout",
          "text": [
            "ram\n",
            "log in\n",
            "Enroll into the course\n"
          ]
        }
      ]
    },
    {
      "cell_type": "code",
      "source": [
        "# constructor example\n",
        "# if child dont have its own constructor than parent ko constructor call hunxa\n",
        "class Phone:\n",
        "  def __init__(self, price, brand, camera):\n",
        "    print(\"Inside the phone constructor\")\n",
        "    self.price = price\n",
        "    self.brand = brand\n",
        "    self.camera = camera\n",
        "\n",
        "  def buy(self):\n",
        "    print(\"Buying a phone\")\n",
        "\n",
        "class Smartphone(Phone):\n",
        "  pass\n",
        "s = Smartphone(20000, \"android\", 12)\n",
        "s.buy()"
      ],
      "metadata": {
        "colab": {
          "base_uri": "https://localhost:8080/"
        },
        "id": "b0yyz9Ahs407",
        "outputId": "389b2a1d-4fe5-4755-f36c-7b5d24b1cefb"
      },
      "execution_count": 13,
      "outputs": [
        {
          "output_type": "stream",
          "name": "stdout",
          "text": [
            "Inside the phone constructor\n",
            "Buying a phone\n"
          ]
        }
      ]
    },
    {
      "cell_type": "code",
      "source": [
        "# constructor Example 2\n",
        "class Phone:\n",
        "  def __init__(self, price, brand, camera):\n",
        "    print(\"Inside the phone constructor\")\n",
        "    self.price = price\n",
        "    self.brand = brand\n",
        "    self.camera = camera\n",
        "\n",
        "  def buy(self):\n",
        "    print(\"Buying a phone\")\n",
        "\n",
        "class Smartphone(Phone):\n",
        "  def __init__(self, os, ram):\n",
        "    self.os = os\n",
        "    self.ram = ram\n",
        "    print(\"Inside smartPhone constructor\")\n",
        "\n",
        "  def buy(self):\n",
        "    print(\"Buying a SmartPhone\")\n",
        "\n",
        "s = Smartphone(\"Android,\", 2)\n",
        "'''NOTE : ta kura k vane child kai constructor xa ani tyo kahile pani parent ko\n",
        "constructor access gardaina and if access gardaina vane parent ko constructor\n",
        "vitra ko value haru initialize nai hudainan so child sanga parents to attribute\n",
        "access garna mildaina'''\n",
        "\n",
        "\n",
        "s.brand  # this is in parent class and is throwing error"
      ],
      "metadata": {
        "colab": {
          "base_uri": "https://localhost:8080/",
          "height": 227
        },
        "id": "Wu9zD1stxkKs",
        "outputId": "aeebadfe-f64d-48f4-cc24-d6c615643b06"
      },
      "execution_count": 15,
      "outputs": [
        {
          "output_type": "stream",
          "name": "stdout",
          "text": [
            "Inside smartPhone constructor\n"
          ]
        },
        {
          "output_type": "error",
          "ename": "AttributeError",
          "evalue": "'Smartphone' object has no attribute 'brand'",
          "traceback": [
            "\u001b[0;31m---------------------------------------------------------------------------\u001b[0m",
            "\u001b[0;31mAttributeError\u001b[0m                            Traceback (most recent call last)",
            "\u001b[0;32m<ipython-input-15-53a469d556df>\u001b[0m in \u001b[0;36m<cell line: 28>\u001b[0;34m()\u001b[0m\n\u001b[1;32m     26\u001b[0m \u001b[0;34m\u001b[0m\u001b[0m\n\u001b[1;32m     27\u001b[0m \u001b[0;34m\u001b[0m\u001b[0m\n\u001b[0;32m---> 28\u001b[0;31m \u001b[0ms\u001b[0m\u001b[0;34m.\u001b[0m\u001b[0mbrand\u001b[0m\u001b[0;34m\u001b[0m\u001b[0;34m\u001b[0m\u001b[0m\n\u001b[0m",
            "\u001b[0;31mAttributeError\u001b[0m: 'Smartphone' object has no attribute 'brand'"
          ]
        }
      ]
    },
    {
      "cell_type": "code",
      "source": [
        "# Child cant access private members of the class\n",
        "\n",
        "class Phone:\n",
        "  def __init__(self, price, brand, camera):\n",
        "    print(\"Inside the phone constructor\")\n",
        "    self.__price = price\n",
        "    self.brand = brand\n",
        "    self.camera = camera\n",
        "\n",
        "  def show(self):\n",
        "    print(self.__price)\n",
        "\n",
        "class Smartphone(Phone):\n",
        "  def buy(self):\n",
        "    print(\"Buying a phone\")\n",
        "    print(self.__price)\n",
        "\n",
        "s = Smartphone(20000, \"android\", 12)\n",
        "s.buy()"
      ],
      "metadata": {
        "colab": {
          "base_uri": "https://localhost:8080/",
          "height": 366
        },
        "id": "b2RX6uLLy2xy",
        "outputId": "b6b9cfd3-d809-455b-c70b-914428accf97"
      },
      "execution_count": 17,
      "outputs": [
        {
          "output_type": "stream",
          "name": "stdout",
          "text": [
            "Inside the phone constructor\n",
            "Buying a phone\n"
          ]
        },
        {
          "output_type": "error",
          "ename": "AttributeError",
          "evalue": "'Smartphone' object has no attribute '_Smartphone__price'",
          "traceback": [
            "\u001b[0;31m---------------------------------------------------------------------------\u001b[0m",
            "\u001b[0;31mAttributeError\u001b[0m                            Traceback (most recent call last)",
            "\u001b[0;32m<ipython-input-17-0f5753eb73a9>\u001b[0m in \u001b[0;36m<cell line: 19>\u001b[0;34m()\u001b[0m\n\u001b[1;32m     17\u001b[0m \u001b[0;34m\u001b[0m\u001b[0m\n\u001b[1;32m     18\u001b[0m \u001b[0ms\u001b[0m \u001b[0;34m=\u001b[0m \u001b[0mSmartphone\u001b[0m\u001b[0;34m(\u001b[0m\u001b[0;36m20000\u001b[0m\u001b[0;34m,\u001b[0m \u001b[0;34m\"android\"\u001b[0m\u001b[0;34m,\u001b[0m \u001b[0;36m12\u001b[0m\u001b[0;34m)\u001b[0m\u001b[0;34m\u001b[0m\u001b[0;34m\u001b[0m\u001b[0m\n\u001b[0;32m---> 19\u001b[0;31m \u001b[0ms\u001b[0m\u001b[0;34m.\u001b[0m\u001b[0mbuy\u001b[0m\u001b[0;34m(\u001b[0m\u001b[0;34m)\u001b[0m\u001b[0;34m\u001b[0m\u001b[0;34m\u001b[0m\u001b[0m\n\u001b[0m",
            "\u001b[0;32m<ipython-input-17-0f5753eb73a9>\u001b[0m in \u001b[0;36mbuy\u001b[0;34m(self)\u001b[0m\n\u001b[1;32m     14\u001b[0m   \u001b[0;32mdef\u001b[0m \u001b[0mbuy\u001b[0m\u001b[0;34m(\u001b[0m\u001b[0mself\u001b[0m\u001b[0;34m)\u001b[0m\u001b[0;34m:\u001b[0m\u001b[0;34m\u001b[0m\u001b[0;34m\u001b[0m\u001b[0m\n\u001b[1;32m     15\u001b[0m     \u001b[0mprint\u001b[0m\u001b[0;34m(\u001b[0m\u001b[0;34m\"Buying a phone\"\u001b[0m\u001b[0;34m)\u001b[0m\u001b[0;34m\u001b[0m\u001b[0;34m\u001b[0m\u001b[0m\n\u001b[0;32m---> 16\u001b[0;31m     \u001b[0mprint\u001b[0m\u001b[0;34m(\u001b[0m\u001b[0mself\u001b[0m\u001b[0;34m.\u001b[0m\u001b[0m__price\u001b[0m\u001b[0;34m)\u001b[0m\u001b[0;34m\u001b[0m\u001b[0;34m\u001b[0m\u001b[0m\n\u001b[0m\u001b[1;32m     17\u001b[0m \u001b[0;34m\u001b[0m\u001b[0m\n\u001b[1;32m     18\u001b[0m \u001b[0ms\u001b[0m \u001b[0;34m=\u001b[0m \u001b[0mSmartphone\u001b[0m\u001b[0;34m(\u001b[0m\u001b[0;36m20000\u001b[0m\u001b[0;34m,\u001b[0m \u001b[0;34m\"android\"\u001b[0m\u001b[0;34m,\u001b[0m \u001b[0;36m12\u001b[0m\u001b[0;34m)\u001b[0m\u001b[0;34m\u001b[0m\u001b[0;34m\u001b[0m\u001b[0m\n",
            "\u001b[0;31mAttributeError\u001b[0m: 'Smartphone' object has no attribute '_Smartphone__price'"
          ]
        }
      ]
    },
    {
      "cell_type": "code",
      "source": [
        "class Parent:\n",
        "\n",
        "  def __init__(self, num):\n",
        "    self.__num = num\n",
        "\n",
        "  def get_num(self):  # GETTER\n",
        "    return self.__num\n",
        "\n",
        "class Child(Parent):\n",
        "\n",
        "  def show(self):\n",
        "    print(\"This is in the child class\")\n",
        "\n",
        "son = Child(200)\n",
        "print(son.get_num())\n",
        "son.show()\n"
      ],
      "metadata": {
        "colab": {
          "base_uri": "https://localhost:8080/"
        },
        "id": "PpoKrjEw0acP",
        "outputId": "190b8663-b5f0-417f-a236-8eb66f8b5de3"
      },
      "execution_count": 18,
      "outputs": [
        {
          "output_type": "stream",
          "name": "stdout",
          "text": [
            "200\n",
            "This is in the child class\n"
          ]
        }
      ]
    },
    {
      "cell_type": "code",
      "source": [
        "class Parent:\n",
        "\n",
        "    def __init__(self,num):\n",
        "        self.__num=num\n",
        "\n",
        "    def get_num(self):\n",
        "        return self.__num\n",
        "\n",
        "class Child(Parent):\n",
        "\n",
        "    def __init__(self,val,num):\n",
        "        self.__val=val\n",
        "\n",
        "    def get_val(self):\n",
        "        return self.__val\n",
        "\n",
        "son=Child(100,10)\n",
        "print(\"Parent: Num:\",son.get_num())\n",
        "print(\"Child: Val:\",son.get_val())"
      ],
      "metadata": {
        "colab": {
          "base_uri": "https://localhost:8080/",
          "height": 349
        },
        "id": "nGCOnciZ2aZ7",
        "outputId": "5a91e2f5-4cb2-4922-f591-b09bb2bf18e8"
      },
      "execution_count": 19,
      "outputs": [
        {
          "output_type": "error",
          "ename": "AttributeError",
          "evalue": "'Child' object has no attribute '_Parent__num'",
          "traceback": [
            "\u001b[0;31m---------------------------------------------------------------------------\u001b[0m",
            "\u001b[0;31mAttributeError\u001b[0m                            Traceback (most recent call last)",
            "\u001b[0;32m<ipython-input-19-5a17300f6fc7>\u001b[0m in \u001b[0;36m<cell line: 18>\u001b[0;34m()\u001b[0m\n\u001b[1;32m     16\u001b[0m \u001b[0;34m\u001b[0m\u001b[0m\n\u001b[1;32m     17\u001b[0m \u001b[0mson\u001b[0m\u001b[0;34m=\u001b[0m\u001b[0mChild\u001b[0m\u001b[0;34m(\u001b[0m\u001b[0;36m100\u001b[0m\u001b[0;34m,\u001b[0m\u001b[0;36m10\u001b[0m\u001b[0;34m)\u001b[0m\u001b[0;34m\u001b[0m\u001b[0;34m\u001b[0m\u001b[0m\n\u001b[0;32m---> 18\u001b[0;31m \u001b[0mprint\u001b[0m\u001b[0;34m(\u001b[0m\u001b[0;34m\"Parent: Num:\"\u001b[0m\u001b[0;34m,\u001b[0m\u001b[0mson\u001b[0m\u001b[0;34m.\u001b[0m\u001b[0mget_num\u001b[0m\u001b[0;34m(\u001b[0m\u001b[0;34m)\u001b[0m\u001b[0;34m)\u001b[0m\u001b[0;34m\u001b[0m\u001b[0;34m\u001b[0m\u001b[0m\n\u001b[0m\u001b[1;32m     19\u001b[0m \u001b[0mprint\u001b[0m\u001b[0;34m(\u001b[0m\u001b[0;34m\"Child: Val:\"\u001b[0m\u001b[0;34m,\u001b[0m\u001b[0mson\u001b[0m\u001b[0;34m.\u001b[0m\u001b[0mget_val\u001b[0m\u001b[0;34m(\u001b[0m\u001b[0;34m)\u001b[0m\u001b[0;34m)\u001b[0m\u001b[0;34m\u001b[0m\u001b[0;34m\u001b[0m\u001b[0m\n",
            "\u001b[0;32m<ipython-input-19-5a17300f6fc7>\u001b[0m in \u001b[0;36mget_num\u001b[0;34m(self)\u001b[0m\n\u001b[1;32m      5\u001b[0m \u001b[0;34m\u001b[0m\u001b[0m\n\u001b[1;32m      6\u001b[0m     \u001b[0;32mdef\u001b[0m \u001b[0mget_num\u001b[0m\u001b[0;34m(\u001b[0m\u001b[0mself\u001b[0m\u001b[0;34m)\u001b[0m\u001b[0;34m:\u001b[0m\u001b[0;34m\u001b[0m\u001b[0;34m\u001b[0m\u001b[0m\n\u001b[0;32m----> 7\u001b[0;31m         \u001b[0;32mreturn\u001b[0m \u001b[0mself\u001b[0m\u001b[0;34m.\u001b[0m\u001b[0m__num\u001b[0m\u001b[0;34m\u001b[0m\u001b[0;34m\u001b[0m\u001b[0m\n\u001b[0m\u001b[1;32m      8\u001b[0m \u001b[0;34m\u001b[0m\u001b[0m\n\u001b[1;32m      9\u001b[0m \u001b[0;32mclass\u001b[0m \u001b[0mChild\u001b[0m\u001b[0;34m(\u001b[0m\u001b[0mParent\u001b[0m\u001b[0;34m)\u001b[0m\u001b[0;34m:\u001b[0m\u001b[0;34m\u001b[0m\u001b[0;34m\u001b[0m\u001b[0m\n",
            "\u001b[0;31mAttributeError\u001b[0m: 'Child' object has no attribute '_Parent__num'"
          ]
        }
      ]
    },
    {
      "cell_type": "code",
      "source": [
        "class A:\n",
        "    def __init__(self):\n",
        "        self.var1=100\n",
        "\n",
        "    def display1(self,var1):\n",
        "        # self.var1 = var1    # yo garyo vane matrai 200 print hunxa\n",
        "        print(\"class A :\", self.var1)\n",
        "\n",
        "class B(A):\n",
        "\n",
        "    def display2(self,var1):\n",
        "        print(\"class B :\", self.var1)\n",
        "\n",
        "obj=B()\n",
        "obj.display1(200)    #diyo matrai receive nai garena so initial value nai print hunxa"
      ],
      "metadata": {
        "colab": {
          "base_uri": "https://localhost:8080/"
        },
        "id": "iV-qQxrD24mC",
        "outputId": "fd68c763-db5e-4262-fef0-9c6705d5f311"
      },
      "execution_count": 22,
      "outputs": [
        {
          "output_type": "stream",
          "name": "stdout",
          "text": [
            "class A : 100\n"
          ]
        }
      ]
    },
    {
      "cell_type": "code",
      "source": [
        "# Method Overriding\n",
        "\n",
        "class Phone:\n",
        "    def __init__(self, price, brand, camera):\n",
        "        print (\"Inside phone constructor\")\n",
        "        self.__price = price\n",
        "        self.brand = brand\n",
        "        self.camera = camera\n",
        "\n",
        "    def buy(self):\n",
        "        print (\"Buying a phone\")\n",
        "\n",
        "class SmartPhone(Phone):\n",
        "    def buy(self):\n",
        "        print (\"Buying a smartphone\")\n",
        "\n",
        "s=SmartPhone(20000, \"Apple\", 13)\n",
        "\n",
        "s.buy()\n",
        "# child ko buy execute hunxa always"
      ],
      "metadata": {
        "colab": {
          "base_uri": "https://localhost:8080/"
        },
        "id": "qOAJFKjg3Xd9",
        "outputId": "466e30ae-c914-4d00-f649-b4746b871548"
      },
      "execution_count": 23,
      "outputs": [
        {
          "output_type": "stream",
          "name": "stdout",
          "text": [
            "Inside phone constructor\n",
            "Buying a smartphone\n"
          ]
        }
      ]
    },
    {
      "cell_type": "code",
      "source": [
        "p = Phone(200, \"F5\", 12)\n",
        "# p.buy()   overriding ma jasko object xa uskai method call hunxa"
      ],
      "metadata": {
        "colab": {
          "base_uri": "https://localhost:8080/"
        },
        "id": "nNMCUCEh_zk6",
        "outputId": "37cd17ae-0b75-4b17-f7d5-bbf7467cad09"
      },
      "execution_count": 24,
      "outputs": [
        {
          "output_type": "stream",
          "name": "stdout",
          "text": [
            "Inside phone constructor\n",
            "Buying a phone\n"
          ]
        }
      ]
    },
    {
      "cell_type": "code",
      "source": [
        "# Method Overriding and super keyword\n",
        "\n",
        "class Phone:\n",
        "    def __init__(self, price, brand, camera):\n",
        "        print (\"Inside phone constructor\")\n",
        "        self.__price = price\n",
        "        self.brand = brand\n",
        "        self.camera = camera\n",
        "\n",
        "    def buy(self):\n",
        "        print (\"Buying a phone\")\n",
        "\n",
        "class SmartPhone(Phone):\n",
        "    def buy(self):\n",
        "        print (\"Buying a smartphone\")\n",
        "\n",
        "     # syntax to call parent ko buy method\n",
        "        super().buy()\n",
        "\n",
        "s=SmartPhone(20000, \"Apple\", 13)\n",
        "\n",
        "s.buy()\n",
        "# child ko buy execute hunxa always"
      ],
      "metadata": {
        "colab": {
          "base_uri": "https://localhost:8080/"
        },
        "id": "0N7r3MXRAU-t",
        "outputId": "14ee7a68-e224-419c-b436-a14362345bee"
      },
      "execution_count": 25,
      "outputs": [
        {
          "output_type": "stream",
          "name": "stdout",
          "text": [
            "Inside phone constructor\n",
            "Buying a smartphone\n",
            "Buying a phone\n"
          ]
        }
      ]
    },
    {
      "cell_type": "code",
      "source": [
        " # super -> constuctor\n",
        "class Phone:\n",
        "    def __init__(self, price, brand, camera):\n",
        "        print (\"Inside phone constructor\")\n",
        "        self.__price = price\n",
        "        self.brand = brand\n",
        "        self.camera = camera\n",
        "\n",
        "class SmartPhone(Phone):\n",
        "    def __init__(self, price, brand, camera, os, ram):\n",
        "        print('Inside smartphone constructor')\n",
        "        super().__init__(price, brand, camera)  #to access constructor of parent child ma hudahudai\n",
        "\n",
        "        self.os = os\n",
        "        self.ram = ram\n",
        "        print (\"Inside smartphone constructor\")\n",
        "\n",
        "s=SmartPhone(20000, \"Samsung\", 12, \"Android\", 2)\n",
        "\n",
        "print(s.os)\n",
        "print(s.brand)"
      ],
      "metadata": {
        "colab": {
          "base_uri": "https://localhost:8080/"
        },
        "id": "w4fHeU3bBKh4",
        "outputId": "9170478a-3ac1-4710-dcf4-be063b41af9d"
      },
      "execution_count": 26,
      "outputs": [
        {
          "output_type": "stream",
          "name": "stdout",
          "text": [
            "Inside smartphone constructor\n",
            "Inside phone constructor\n",
            "Inside smartphone constructor\n",
            "Android\n",
            "Samsung\n"
          ]
        }
      ]
    },
    {
      "cell_type": "markdown",
      "source": [
        "#Using super outside the class\n",
        "No, we cannot use super outside of the class.\n",
        "It is generally used inside of  Child class or\n",
        "we can say it is used inside of the class"
      ],
      "metadata": {
        "id": "Y0V0bgS5DiIR"
      }
    },
    {
      "cell_type": "code",
      "source": [],
      "metadata": {
        "id": "en8tOYkBCMX9"
      },
      "execution_count": null,
      "outputs": []
    }
  ]
}