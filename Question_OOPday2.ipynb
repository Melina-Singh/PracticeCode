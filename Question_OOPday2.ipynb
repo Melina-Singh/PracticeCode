{
  "nbformat": 4,
  "nbformat_minor": 0,
  "metadata": {
    "colab": {
      "provenance": [],
      "authorship_tag": "ABX9TyMpgE/edJ2AIe8P0R8DqA6u",
      "include_colab_link": true
    },
    "kernelspec": {
      "name": "python3",
      "display_name": "Python 3"
    },
    "language_info": {
      "name": "python"
    }
  },
  "cells": [
    {
      "cell_type": "markdown",
      "metadata": {
        "id": "view-in-github",
        "colab_type": "text"
      },
      "source": [
        "<a href=\"https://colab.research.google.com/github/Melina-Singh/PracticeCode/blob/master/Question_OOPday2.ipynb\" target=\"_parent\"><img src=\"https://colab.research.google.com/assets/colab-badge.svg\" alt=\"Open In Colab\"/></a>"
      ]
    },
    {
      "cell_type": "code",
      "execution_count": null,
      "metadata": {
        "id": "ciKy4qOcPAtc"
      },
      "outputs": [],
      "source": [
        "# COORDINTE GEOMETRY\n",
        "#Question1\n",
        "\n",
        "class Point:\n",
        "\n",
        "# parameterized constructor\n",
        "  def __init__(self, x, y):\n",
        "    self.x_cord = x\n",
        "    self.y_cord = y\n",
        "\n",
        "  def __str__(self):\n",
        "    return\"{},{}\".format(self.x_cord,self.y_cord)\n",
        "\n",
        "  def euclidean_distance(self, other):# hamilai coordinate nialna duita point chahinxe that is self and other\n",
        "    return((self.x_cord- other.x_cord)**2+ (self.y_cord - other.y_cord)**2)**0.5\n",
        "\n",
        "  def distance_from_origin(self):\n",
        "    return(self.x_cord**2 + self.y_cord**2)**0.5  #square root hunale 0.5\n",
        "    # return self.euclidean_distance(Point(0,0)) these two codes are same\n",
        "\n",
        "\n",
        "class Line:\n",
        "\n",
        "  def __init__(self , A, B, C):\n",
        "    self.A = A\n",
        "    self.B = B\n",
        "    self.C = C\n",
        "\n",
        "  def __str__(self):\n",
        "    return \"{}x + {}y + {} = 0\".format(self.A, self.B, self.C)\n",
        "\n",
        "  def point_on_line(line, point):\n",
        "    if line.A*point.x_cord +line.B*point.y_cord + line.C == 0:\n",
        "      return \"Lies on the line\"\n",
        "    else:\n",
        "      return \"Does not lie in the line\"\n",
        "\n",
        "  def shortest_distance(line, point):\n",
        "    return abs(line.A*point.x_cord + line.B*point.y_cord + line.C)/(line.A **2 +line.B**2)**0.5\n",
        "\n"
      ]
    },
    {
      "cell_type": "code",
      "source": [
        "p1 = Point(0,1)\n",
        "p2 = Point(-2,-3)\n",
        "print(p1)\n",
        "print(p2)\n",
        "p1.distance_from_origin()"
      ],
      "metadata": {
        "colab": {
          "base_uri": "https://localhost:8080/"
        },
        "id": "HD0CxItOQ-_W",
        "outputId": "bab12259-2c51-46dd-83c8-2bf2dd3daecf"
      },
      "execution_count": null,
      "outputs": [
        {
          "output_type": "stream",
          "name": "stdout",
          "text": [
            "0,1\n",
            "-2,-3\n"
          ]
        },
        {
          "output_type": "execute_result",
          "data": {
            "text/plain": [
              "1.0"
            ]
          },
          "metadata": {},
          "execution_count": 15
        }
      ]
    },
    {
      "cell_type": "code",
      "source": [
        "l1 = Line(1,1,-2)\n",
        "p1 = Point(1,1)\n",
        "print(l1)\n",
        "print(p1)\n",
        "\n",
        "l1.point_on_line(p1)"
      ],
      "metadata": {
        "colab": {
          "base_uri": "https://localhost:8080/",
          "height": 70
        },
        "id": "SCvufcB_ROR8",
        "outputId": "a05b9de0-b9ce-44c6-cbae-010860d70edf"
      },
      "execution_count": null,
      "outputs": [
        {
          "output_type": "stream",
          "name": "stdout",
          "text": [
            "1x + 1y + -2 = 0\n",
            "1,1\n"
          ]
        },
        {
          "output_type": "execute_result",
          "data": {
            "text/plain": [
              "'Lies on the line'"
            ],
            "application/vnd.google.colaboratory.intrinsic+json": {
              "type": "string"
            }
          },
          "metadata": {},
          "execution_count": 21
        }
      ]
    },
    {
      "cell_type": "code",
      "source": [
        "l1 = Line(1,1,-2)\n",
        "p1 =Point(1,6)\n",
        "l1.shortest_distance(p1)"
      ],
      "metadata": {
        "colab": {
          "base_uri": "https://localhost:8080/"
        },
        "id": "zWLIBftxWtHn",
        "outputId": "e4d6bfed-709d-4a09-fa53-b0928fc8a15a"
      },
      "execution_count": null,
      "outputs": [
        {
          "output_type": "execute_result",
          "data": {
            "text/plain": [
              "3.5355339059327373"
            ]
          },
          "metadata": {},
          "execution_count": 25
        }
      ]
    },
    {
      "cell_type": "code",
      "source": [],
      "metadata": {
        "id": "Raw3tg9DZ0i6"
      },
      "execution_count": null,
      "outputs": []
    }
  ]
}